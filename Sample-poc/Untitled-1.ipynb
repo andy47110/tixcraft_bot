{
 "cells": [
  {
   "attachments": {},
   "cell_type": "markdown",
   "metadata": {},
   "source": [
    "# Sample 集合\n",
    "參考文章:\n",
    "[Selenium 使用 Chrome 瀏覽器 Webdriver](https://stackoverflow.max-everyday.com/2018/03/selenium-chrome-webdriver/)"
   ]
  },
  {
   "cell_type": "code",
   "execution_count": 32,
   "metadata": {},
   "outputs": [
    {
     "name": "stderr",
     "output_type": "stream",
     "text": [
      "C:\\Users\\16615\\AppData\\Local\\Temp\\ipykernel_39808\\2015846201.py:5: DeprecationWarning: executable_path has been deprecated, please pass in a Service object\n",
      "  driver = webdriver.Chrome(chromedriver)\n"
     ]
    }
   ],
   "source": [
    "from selenium import webdriver\n",
    "from selenium.webdriver.support.ui import Select\n",
    "\n",
    "chromedriver = \"D:\\Windows\\Download\\chromedriver_win32\"\n",
    "driver = webdriver.Chrome(chromedriver)\n",
    "driver.get('http://www.cwb.gov.tw/V7/')\n",
    "driver.set_window_position(0, 0)  # 瀏覽器位置\n",
    "driver.set_window_size(700, 700)  # 瀏覽器大小"
   ]
  },
  {
   "cell_type": "code",
   "execution_count": 33,
   "metadata": {},
   "outputs": [
    {
     "name": "stdout",
     "output_type": "stream",
     "text": [
      "<selenium.webdriver.chrome.webdriver.WebDriver (session=\"8590654966b05599b978209f9a141cd9\")>\n"
     ]
    }
   ],
   "source": [
    "print(driver)\n",
    "driver.find_element('id', 'home-select-town').click()"
   ]
  },
  {
   "cell_type": "code",
   "execution_count": null,
   "metadata": {},
   "outputs": [],
   "source": [
    "print(select.all_selected_options)"
   ]
  }
 ],
 "metadata": {
  "kernelspec": {
   "display_name": "Python 3",
   "language": "python",
   "name": "python3"
  },
  "language_info": {
   "codemirror_mode": {
    "name": "ipython",
    "version": 3
   },
   "file_extension": ".py",
   "mimetype": "text/x-python",
   "name": "python",
   "nbconvert_exporter": "python",
   "pygments_lexer": "ipython3",
   "version": "3.11.0"
  },
  "orig_nbformat": 4
 },
 "nbformat": 4,
 "nbformat_minor": 2
}
